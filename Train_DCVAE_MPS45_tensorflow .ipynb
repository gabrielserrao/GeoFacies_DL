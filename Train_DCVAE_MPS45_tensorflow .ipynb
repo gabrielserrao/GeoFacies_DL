{
 "cells": [
  {
   "cell_type": "code",
   "execution_count": 1,
   "metadata": {},
   "outputs": [
    {
     "name": "stderr",
     "output_type": "stream",
     "text": [
      "Using TensorFlow backend.\n",
      "WARNING: Logging before flag parsing goes to stderr.\n",
      "W0306 21:21:59.233442 139970004961088 deprecation_wrapper.py:119] From /share/GeoFacies/GeoFacies_DL/Model/Utils.py:238: The name tf.AUTO_REUSE is deprecated. Please use tf.compat.v1.AUTO_REUSE instead.\n",
      "\n",
      "W0306 21:21:59.235225 139970004961088 deprecation_wrapper.py:119] From /share/GeoFacies/GeoFacies_DL/Model/DCVAE_TF.py:15: The name tf.train.AdamOptimizer is deprecated. Please use tf.compat.v1.train.AdamOptimizer instead.\n",
      "\n"
     ]
    }
   ],
   "source": [
    "import tensorflow as tf\n",
    "from Model.DCVAE_TF import DCVAE\n",
    "from Model.Utils import MPS_Generator,plot_images, plot_history"
   ]
  },
  {
   "cell_type": "markdown",
   "metadata": {},
   "source": [
    "## Load DataSet"
   ]
  },
  {
   "cell_type": "code",
   "execution_count": 2,
   "metadata": {},
   "outputs": [
    {
     "name": "stderr",
     "output_type": "stream",
     "text": [
      "W0306 21:21:59.293160 139970004961088 deprecation_wrapper.py:119] From /share/GeoFacies/GeoFacies_DL/Model/Utils.py:322: The name tf.parse_single_example is deprecated. Please use tf.io.parse_single_example instead.\n",
      "\n",
      "W0306 21:21:59.294534 139970004961088 deprecation_wrapper.py:119] From /share/GeoFacies/GeoFacies_DL/Model/Utils.py:325: The name tf.FixedLenFeature is deprecated. Please use tf.io.FixedLenFeature instead.\n",
      "\n",
      "W0306 21:21:59.324368 139970004961088 deprecation.py:323] From /share/GeoFacies/GeoFacies_DL/Model/Utils.py:314: DatasetV1.make_one_shot_iterator (from tensorflow.python.data.ops.dataset_ops) is deprecated and will be removed in a future version.\n",
      "Instructions for updating:\n",
      "Use `for ... in dataset:` to iterate over a dataset. If using `tf.estimator`, return the `Dataset` object directly from your input function. As a last resort, you can use `tf.compat.v1.data.make_one_shot_iterator(dataset)`.\n",
      "W0306 21:21:59.349660 139970004961088 deprecation_wrapper.py:119] From /work/SmithCPU/.local/lib/python3.6/site-packages/keras/backend/tensorflow_backend.py:174: The name tf.get_default_session is deprecated. Please use tf.compat.v1.get_default_session instead.\n",
      "\n",
      "W0306 21:21:59.350977 139970004961088 deprecation_wrapper.py:119] From /work/SmithCPU/.local/lib/python3.6/site-packages/keras/backend/tensorflow_backend.py:181: The name tf.ConfigProto is deprecated. Please use tf.compat.v1.ConfigProto instead.\n",
      "\n"
     ]
    }
   ],
   "source": [
    "def load_data_set(path_tfRecord):\n",
    "    gen_train = MPS_Generator(path_tfRecord,4)\n",
    "    gen_train = MPS_Generator(path_tfRecord, gen_train.num)\n",
    "    x_train = gen_train.get_numpy_batch().astype('float32')\n",
    "    return x_train\n",
    "x_train = load_data_set('DataSet/MPS45/train.tfrecords')\n",
    "x_test =load_data_set('DataSet/MPS45/test_val.tfrecords')"
   ]
  },
  {
   "cell_type": "markdown",
   "metadata": {},
   "source": [
    "## Build Model"
   ]
  },
  {
   "cell_type": "code",
   "execution_count": 3,
   "metadata": {},
   "outputs": [],
   "source": [
    "model = DCVAE(input_shape=(45,45,2), latent_cont_dim=500, opt=tf.train.RMSPropOptimizer(learning_rate=0.001),hidden_dim=1024, \n",
    "              filters=(32,32,16), strides=(2,2,1), dropout=0.1,lr=0.001)"
   ]
  },
  {
   "cell_type": "markdown",
   "metadata": {},
   "source": [
    "## Train Network"
   ]
  },
  {
   "cell_type": "code",
   "execution_count": 4,
   "metadata": {
    "scrolled": true
   },
   "outputs": [
    {
     "name": "stderr",
     "output_type": "stream",
     "text": [
      "W0306 21:22:04.089029 139970004961088 deprecation.py:506] From /usr/local/lib/python3.6/dist-packages/tensorflow/python/ops/init_ops.py:1251: calling VarianceScaling.__init__ (from tensorflow.python.ops.init_ops) with dtype is deprecated and will be removed in a future version.\n",
      "Instructions for updating:\n",
      "Call initializer instance with the dtype argument instead of passing it to the constructor\n",
      "W0306 21:22:04.234706 139970004961088 deprecation.py:323] From /share/GeoFacies/GeoFacies_DL/Model/DCVAE_TF.py:112: dropout (from tensorflow.python.layers.core) is deprecated and will be removed in a future version.\n",
      "Instructions for updating:\n",
      "Use keras.layers.dropout instead.\n",
      "W0306 21:22:04.429276 139970004961088 deprecation.py:323] From /share/GeoFacies/GeoFacies_DL/Model/DCVAE_TF.py:148: conv2d_transpose (from tensorflow.python.layers.convolutional) is deprecated and will be removed in a future version.\n",
      "Instructions for updating:\n",
      "Use `tf.keras.layers.Conv2DTranspose` instead.\n",
      "W0306 21:22:05.291763 139970004961088 deprecation_wrapper.py:119] From /share/GeoFacies/GeoFacies_DL/Model/DCVAE_TF.py:154: The name tf.image.resize_bilinear is deprecated. Please use tf.compat.v1.image.resize_bilinear instead.\n",
      "\n",
      "W0306 21:22:05.294917 139970004961088 deprecation.py:323] From /share/GeoFacies/GeoFacies_DL/Model/DCVAE_TF.py:156: conv2d (from tensorflow.python.layers.convolutional) is deprecated and will be removed in a future version.\n",
      "Instructions for updating:\n",
      "Use `tf.keras.layers.Conv2D` instead.\n",
      "W0306 21:22:05.742581 139970004961088 deprecation.py:323] From /share/GeoFacies/GeoFacies_DL/Model/DCVAE_TF.py:80: flatten (from tensorflow.python.layers.core) is deprecated and will be removed in a future version.\n",
      "Instructions for updating:\n",
      "Use keras.layers.flatten instead.\n",
      "W0306 21:22:06.233469 139970004961088 deprecation_wrapper.py:119] From /share/GeoFacies/GeoFacies_DL/Model/DCVAE_TF.py:170: The name tf.train.RMSPropOptimizer is deprecated. Please use tf.compat.v1.train.RMSPropOptimizer instead.\n",
      "\n",
      "W0306 21:22:06.399590 139970004961088 deprecation.py:323] From /usr/local/lib/python3.6/dist-packages/tensorflow/python/ops/math_grad.py:1250: add_dispatch_support.<locals>.wrapper (from tensorflow.python.ops.array_ops) is deprecated and will be removed in a future version.\n",
      "Instructions for updating:\n",
      "Use tf.where in 2.0, which has the same broadcast rule as np.where\n",
      "W0306 21:22:06.575652 139970004961088 deprecation.py:506] From /usr/local/lib/python3.6/dist-packages/tensorflow/python/training/rmsprop.py:119: calling Ones.__init__ (from tensorflow.python.ops.init_ops) with dtype is deprecated and will be removed in a future version.\n",
      "Instructions for updating:\n",
      "Call initializer instance with the dtype argument instead of passing it to the constructor\n"
     ]
    },
    {
     "name": "stdout",
     "output_type": "stream",
     "text": [
      "Epoch: 1 - Train cost= 1012.45904541\n",
      "Epoch: 1 - Test cost= 523.43127441\n",
      "Epoch: 2 - Train cost= 475.95169067\n",
      "Epoch: 2 - Test cost= 442.37655640\n",
      "Epoch: 3 - Train cost= 417.94189453\n",
      "Epoch: 3 - Test cost= 413.80917358\n",
      "Epoch: 4 - Train cost= 391.19665527\n",
      "Epoch: 4 - Test cost= 390.69400024\n",
      "Epoch: 5 - Train cost= 372.17169189\n",
      "Epoch: 5 - Test cost= 359.06402588\n",
      "Epoch: 6 - Train cost= 356.57287598\n",
      "Epoch: 6 - Test cost= 362.31423950\n",
      "Epoch: 7 - Train cost= 342.63720703\n",
      "Epoch: 7 - Test cost= 336.97970581\n",
      "Epoch: 8 - Train cost= 329.99975586\n",
      "Epoch: 8 - Test cost= 331.43869019\n",
      "Epoch: 9 - Train cost= 319.41635132\n",
      "Epoch: 9 - Test cost= 324.47769165\n",
      "Epoch: 10 - Train cost= 309.31585693\n",
      "Epoch: 10 - Test cost= 303.40609741\n",
      "Epoch: 11 - Train cost= 300.98617554\n",
      "Epoch: 11 - Test cost= 304.92422485\n",
      "Epoch: 12 - Train cost= 293.38406372\n",
      "Epoch: 12 - Test cost= 295.70187378\n",
      "Epoch: 13 - Train cost= 286.90994263\n",
      "Epoch: 13 - Test cost= 286.26776123\n",
      "Epoch: 14 - Train cost= 281.38409424\n",
      "Epoch: 14 - Test cost= 281.04022217\n",
      "Epoch: 15 - Train cost= 276.90002441\n",
      "Epoch: 15 - Test cost= 276.76535034\n",
      "Epoch: 16 - Train cost= 272.60241699\n",
      "Epoch: 16 - Test cost= 285.02679443\n",
      "Epoch: 17 - Train cost= 269.04797363\n",
      "Epoch: 17 - Test cost= 270.51251221\n",
      "Epoch: 18 - Train cost= 266.28692627\n",
      "Epoch: 18 - Test cost= 263.83166504\n",
      "Epoch: 19 - Train cost= 263.95703125\n",
      "Epoch: 19 - Test cost= 272.50860596\n",
      "Epoch: 20 - Train cost= 262.21621704\n",
      "Epoch: 20 - Test cost= 266.66241455\n",
      "Epoch: 21 - Train cost= 260.16796875\n",
      "Epoch: 21 - Test cost= 264.08877563\n",
      "Epoch: 22 - Train cost= 258.82742310\n",
      "Epoch: 22 - Test cost= 263.75213623\n",
      "Epoch: 23 - Train cost= 257.12203979\n",
      "Epoch: 23 - Test cost= 260.31298828\n",
      "Epoch: 24 - Train cost= 255.91146851\n",
      "Epoch: 24 - Test cost= 261.88931274\n",
      "Epoch: 25 - Train cost= 254.27929688\n",
      "Epoch: 25 - Test cost= 263.22885132\n",
      "Epoch: 26 - Train cost= 253.76600647\n",
      "Epoch: 26 - Test cost= 265.20071411\n",
      "Epoch: 27 - Train cost= 252.53549194\n",
      "Epoch: 27 - Test cost= 254.74070740\n",
      "Epoch: 28 - Train cost= 251.26850891\n",
      "Epoch: 28 - Test cost= 256.82424927\n",
      "Epoch: 29 - Train cost= 250.56344604\n",
      "Epoch: 29 - Test cost= 254.43659973\n",
      "Epoch: 30 - Train cost= 249.78103638\n",
      "Epoch: 30 - Test cost= 253.25683594\n",
      "Epoch: 31 - Train cost= 248.98289490\n",
      "Epoch: 31 - Test cost= 258.58807373\n",
      "Epoch: 32 - Train cost= 248.34507751\n",
      "Epoch: 32 - Test cost= 253.21528625\n",
      "Epoch: 33 - Train cost= 247.52281189\n",
      "Epoch: 33 - Test cost= 262.21408081\n",
      "Epoch: 34 - Train cost= 236.53414917\n",
      "Epoch: 34 - Test cost= 241.47875977\n",
      "Epoch: 35 - Train cost= 233.65756226\n",
      "Epoch: 35 - Test cost= 240.26333618\n",
      "Epoch: 36 - Train cost= 232.47404480\n",
      "Epoch: 36 - Test cost= 239.46830750\n",
      "Epoch: 37 - Train cost= 232.07650757\n",
      "Epoch: 37 - Test cost= 238.94882202\n",
      "Epoch: 38 - Train cost= 231.48446655\n",
      "Epoch: 38 - Test cost= 238.22564697\n",
      "Epoch: 39 - Train cost= 231.21298218\n",
      "Epoch: 39 - Test cost= 237.73451233\n",
      "Epoch: 40 - Train cost= 230.79278564\n",
      "Epoch: 40 - Test cost= 237.80014038\n",
      "Epoch: 41 - Train cost= 230.55699158\n",
      "Epoch: 41 - Test cost= 237.67781067\n",
      "Epoch: 42 - Train cost= 230.36158752\n",
      "Epoch: 42 - Test cost= 237.41773987\n",
      "Epoch: 43 - Train cost= 230.10380554\n",
      "Epoch: 43 - Test cost= 237.24861145\n",
      "Epoch: 44 - Train cost= 230.01397705\n",
      "Epoch: 44 - Test cost= 237.11598206\n",
      "Epoch: 45 - Train cost= 229.78257751\n",
      "Epoch: 45 - Test cost= 237.10278320\n",
      "Epoch: 46 - Train cost= 229.67276001\n",
      "Epoch: 46 - Test cost= 236.56370544\n",
      "Epoch: 47 - Train cost= 229.50700378\n",
      "Epoch: 47 - Test cost= 236.84729004\n",
      "Epoch: 48 - Train cost= 229.38450623\n",
      "Epoch: 48 - Test cost= 236.51344299\n",
      "Epoch: 49 - Train cost= 229.29835510\n",
      "Epoch: 49 - Test cost= 236.28164673\n",
      "Epoch: 50 - Train cost= 229.08174133\n",
      "Epoch: 50 - Test cost= 236.18739319\n",
      "Epoch: 51 - Train cost= 228.93699646\n",
      "Epoch: 51 - Test cost= 236.60018921\n",
      "Epoch: 52 - Train cost= 228.87019348\n",
      "Epoch: 52 - Test cost= 236.10714722\n",
      "Epoch: 53 - Train cost= 228.63679504\n",
      "Epoch: 53 - Test cost= 236.06158447\n",
      "Epoch: 54 - Train cost= 228.53572083\n",
      "Epoch: 54 - Test cost= 236.03431702\n",
      "Epoch: 55 - Train cost= 228.49438477\n",
      "Epoch: 55 - Test cost= 235.72126770\n",
      "Epoch: 56 - Train cost= 228.36120605\n",
      "Epoch: 56 - Test cost= 235.85490417\n",
      "Epoch: 57 - Train cost= 228.40216064\n",
      "Epoch: 57 - Test cost= 235.92642212\n",
      "Epoch: 58 - Train cost= 228.21853638\n",
      "Epoch: 58 - Test cost= 235.58761597\n",
      "Epoch: 59 - Train cost= 228.15959167\n",
      "Epoch: 59 - Test cost= 235.33934021\n",
      "Epoch: 60 - Train cost= 227.95793152\n",
      "Epoch: 60 - Test cost= 235.35183716\n",
      "Epoch: 61 - Train cost= 227.88938904\n",
      "Epoch: 61 - Test cost= 235.25041199\n",
      "Epoch: 62 - Train cost= 227.87052917\n",
      "Epoch: 62 - Test cost= 235.35469055\n",
      "Epoch: 63 - Train cost= 227.66897583\n",
      "Epoch: 63 - Test cost= 235.37638855\n",
      "Epoch: 64 - Train cost= 227.73580933\n",
      "Epoch: 64 - Test cost= 235.27043152\n",
      "Epoch: 65 - Train cost= 227.62828064\n",
      "Epoch: 65 - Test cost= 235.05458069\n",
      "Epoch: 66 - Train cost= 227.36341858\n",
      "Epoch: 66 - Test cost= 234.98104858\n",
      "Epoch: 67 - Train cost= 227.32164001\n",
      "Epoch: 67 - Test cost= 234.92692566\n",
      "Epoch: 68 - Train cost= 227.20864868\n",
      "Epoch: 68 - Test cost= 235.09378052\n",
      "Epoch: 69 - Train cost= 227.22308350\n",
      "Epoch: 69 - Test cost= 234.83862305\n",
      "Epoch: 70 - Train cost= 227.10253906\n",
      "Epoch: 70 - Test cost= 234.76916504\n",
      "Epoch: 71 - Train cost= 226.97125244\n",
      "Epoch: 71 - Test cost= 234.58845520\n",
      "Epoch: 72 - Train cost= 226.87719727\n",
      "Epoch: 72 - Test cost= 234.64006042\n",
      "Epoch: 73 - Train cost= 226.92449951\n",
      "Epoch: 73 - Test cost= 234.46881104\n",
      "Epoch: 74 - Train cost= 226.72442627\n",
      "Epoch: 74 - Test cost= 234.36546326\n",
      "Epoch: 75 - Train cost= 226.81246948\n",
      "Epoch: 75 - Test cost= 234.34509277\n",
      "Epoch: 76 - Train cost= 226.70570374\n",
      "Epoch: 76 - Test cost= 234.37823486\n",
      "Epoch: 77 - Train cost= 226.52671814\n",
      "Epoch: 77 - Test cost= 234.13044739\n",
      "Epoch: 78 - Train cost= 226.49041748\n",
      "Epoch: 78 - Test cost= 234.35697937\n",
      "Epoch: 79 - Train cost= 226.38972473\n",
      "Epoch: 79 - Test cost= 234.33755493\n",
      "Epoch: 80 - Train cost= 226.39186096\n",
      "Epoch: 80 - Test cost= 234.23635864\n",
      "Epoch: 81 - Train cost= 226.36917114\n",
      "Epoch: 81 - Test cost= 234.15480042\n",
      "Epoch: 82 - Train cost= 226.32061768\n",
      "Epoch: 82 - Test cost= 234.19830322\n",
      "Epoch: 83 - Train cost= 226.21122742\n",
      "Epoch: 83 - Test cost= 233.98011780\n",
      "Epoch: 84 - Train cost= 226.13018799\n",
      "Epoch: 84 - Test cost= 233.89498901\n",
      "Epoch: 85 - Train cost= 225.96803284\n",
      "Epoch: 85 - Test cost= 233.80964661\n",
      "Epoch: 86 - Train cost= 226.00781250\n",
      "Epoch: 86 - Test cost= 233.68077087\n",
      "Epoch: 87 - Train cost= 225.67764282\n",
      "Epoch: 87 - Test cost= 233.74575806\n",
      "Epoch: 88 - Train cost= 225.66996765\n",
      "Epoch: 88 - Test cost= 233.75798035\n",
      "Epoch: 89 - Train cost= 225.58140564\n",
      "Epoch: 89 - Test cost= 233.78265381\n",
      "Epoch: 90 - Train cost= 225.67330933\n",
      "Epoch: 90 - Test cost= 233.59733582\n",
      "Epoch: 91 - Train cost= 225.67077637\n",
      "Epoch: 91 - Test cost= 233.57585144\n",
      "Epoch: 92 - Train cost= 225.68702698\n",
      "Epoch: 92 - Test cost= 233.30764771\n",
      "Epoch: 93 - Train cost= 225.52671814\n",
      "Epoch: 93 - Test cost= 233.49633789\n",
      "Epoch: 94 - Train cost= 225.45494080\n",
      "Epoch: 94 - Test cost= 233.33064270\n",
      "Epoch: 95 - Train cost= 225.21488953\n",
      "Epoch: 95 - Test cost= 233.29183960\n",
      "Epoch: 96 - Train cost= 225.30015564\n",
      "Epoch: 96 - Test cost= 233.24296570\n",
      "Epoch: 97 - Train cost= 225.29496765\n",
      "Epoch: 97 - Test cost= 233.35375977\n",
      "Epoch: 98 - Train cost= 225.18959045\n",
      "Epoch: 98 - Test cost= 233.13638306\n",
      "Epoch: 99 - Train cost= 225.27130127\n",
      "Epoch: 99 - Test cost= 233.11772156\n",
      "Epoch: 100 - Train cost= 225.07298279\n",
      "Epoch: 100 - Test cost= 232.96687317\n",
      "Epoch: 101 - Train cost= 224.89579773\n",
      "Epoch: 101 - Test cost= 233.12173462\n",
      "Epoch: 102 - Train cost= 224.91928101\n",
      "Epoch: 102 - Test cost= 233.01092529\n",
      "Epoch: 103 - Train cost= 224.88800049\n",
      "Epoch: 103 - Test cost= 232.79914856\n",
      "Epoch: 104 - Train cost= 224.93125916\n",
      "Epoch: 104 - Test cost= 232.91616821\n",
      "Epoch: 105 - Train cost= 224.84846497\n",
      "Epoch: 105 - Test cost= 232.68904114\n",
      "Epoch: 106 - Train cost= 224.59426880\n",
      "Epoch: 106 - Test cost= 232.68563843\n",
      "Epoch: 107 - Train cost= 224.71508789\n",
      "Epoch: 107 - Test cost= 232.72770691\n",
      "Epoch: 108 - Train cost= 224.52174377\n",
      "Epoch: 108 - Test cost= 232.74467468\n",
      "Epoch: 109 - Train cost= 224.66197205\n",
      "Epoch: 109 - Test cost= 232.62091064\n",
      "Epoch: 110 - Train cost= 224.59982300\n",
      "Epoch: 110 - Test cost= 232.60565186\n",
      "Epoch: 111 - Train cost= 224.32635498\n",
      "Epoch: 111 - Test cost= 232.55122375\n",
      "Epoch: 112 - Train cost= 224.38333130\n",
      "Epoch: 112 - Test cost= 232.62243652\n",
      "Epoch: 113 - Train cost= 224.19212341\n"
     ]
    },
    {
     "name": "stdout",
     "output_type": "stream",
     "text": [
      "Epoch: 113 - Test cost= 232.48220825\n",
      "Epoch: 114 - Train cost= 224.24371338\n",
      "Epoch: 114 - Test cost= 232.65812683\n",
      "Epoch: 115 - Train cost= 224.32565308\n",
      "Epoch: 115 - Test cost= 232.57199097\n",
      "Epoch: 116 - Train cost= 224.17993164\n",
      "Epoch: 116 - Test cost= 232.31045532\n",
      "Epoch: 117 - Train cost= 224.04000854\n",
      "Epoch: 117 - Test cost= 232.29325867\n",
      "Epoch: 118 - Train cost= 224.01019287\n",
      "Epoch: 118 - Test cost= 232.31736755\n",
      "Epoch: 119 - Train cost= 224.01359558\n",
      "Epoch: 119 - Test cost= 232.17993164\n",
      "Epoch: 120 - Train cost= 223.80184937\n",
      "Epoch: 120 - Test cost= 232.44680786\n",
      "Epoch: 121 - Train cost= 223.95426941\n",
      "Epoch: 121 - Test cost= 232.47801208\n",
      "Epoch: 122 - Train cost= 223.78816223\n",
      "Epoch: 122 - Test cost= 232.34786987\n",
      "Epoch: 123 - Train cost= 223.83241272\n",
      "Epoch: 123 - Test cost= 232.19389343\n",
      "Epoch: 124 - Train cost= 223.67933655\n",
      "Epoch: 124 - Test cost= 232.15509033\n",
      "Epoch: 125 - Train cost= 223.75177002\n",
      "Epoch: 125 - Test cost= 232.14883423\n",
      "Epoch: 126 - Train cost= 223.48614502\n",
      "Epoch: 126 - Test cost= 232.30470276\n",
      "Epoch: 127 - Train cost= 223.20545959\n",
      "Epoch: 127 - Test cost= 231.70236206\n",
      "Epoch: 128 - Train cost= 222.99044800\n",
      "Epoch: 128 - Test cost= 231.58848572\n",
      "Epoch: 129 - Train cost= 223.02096558\n",
      "Epoch: 129 - Test cost= 231.45014954\n",
      "Epoch: 130 - Train cost= 222.93725586\n",
      "Epoch: 130 - Test cost= 231.89373779\n",
      "Epoch: 131 - Train cost= 222.84112549\n",
      "Epoch: 131 - Test cost= 231.31425476\n",
      "Epoch: 132 - Train cost= 222.80770874\n",
      "Epoch: 132 - Test cost= 231.85649109\n",
      "Epoch: 133 - Train cost= 222.73704529\n",
      "Epoch: 133 - Test cost= 231.55818176\n",
      "Epoch: 134 - Train cost= 222.81530762\n",
      "Epoch: 134 - Test cost= 231.26152039\n",
      "Epoch: 135 - Train cost= 222.68838501\n",
      "Epoch: 135 - Test cost= 231.31842041\n",
      "Epoch: 136 - Train cost= 222.72154236\n",
      "Epoch: 136 - Test cost= 231.50144958\n",
      "Epoch: 137 - Train cost= 222.45707703\n",
      "Epoch: 137 - Test cost= 231.39468384\n",
      "Epoch: 138 - Train cost= 222.75862122\n",
      "Epoch: 138 - Test cost= 231.36343384\n",
      "Epoch: 139 - Train cost= 222.69624329\n",
      "Epoch: 139 - Test cost= 231.45735168\n",
      "Epoch: 140 - Train cost= 222.71479797\n",
      "Epoch: 140 - Test cost= 231.40476990\n",
      "Epoch: 141 - Train cost= 222.55456543\n",
      "Epoch: 141 - Test cost= 231.59130859\n",
      "Epoch: 142 - Train cost= 222.66239929\n",
      "Epoch: 142 - Test cost= 231.24465942\n",
      "Epoch: 143 - Train cost= 222.54092407\n",
      "Epoch: 143 - Test cost= 231.54008484\n",
      "Epoch: 144 - Train cost= 222.61659241\n",
      "Epoch: 144 - Test cost= 231.41955566\n",
      "Epoch: 145 - Train cost= 222.53800964\n",
      "Epoch: 145 - Test cost= 231.31021118\n",
      "Epoch: 146 - Train cost= 222.52751160\n",
      "Epoch: 146 - Test cost= 230.99615479\n",
      "Epoch: 147 - Train cost= 222.64331055\n",
      "Epoch: 147 - Test cost= 231.31610107\n",
      "Epoch: 148 - Train cost= 222.49342346\n",
      "Epoch: 148 - Test cost= 231.33055115\n",
      "Epoch: 149 - Train cost= 222.63761902\n",
      "Epoch: 149 - Test cost= 231.44073486\n",
      "Epoch: 150 - Train cost= 222.73599243\n",
      "Epoch: 150 - Test cost= 231.40580750\n"
     ]
    }
   ],
   "source": [
    "model.fit(x_train, x_test, epoch=150, batch_size=128,x=10, steph_epoch=10)"
   ]
  },
  {
   "cell_type": "markdown",
   "metadata": {},
   "source": [
    "## Train History"
   ]
  },
  {
   "cell_type": "code",
   "execution_count": 5,
   "metadata": {},
   "outputs": [
    {
     "data": {
      "image/png": "[encoded data removed]",
      "text/plain": [
       "<Figure size 432x288 with 1 Axes>"
      ]
     },
     "metadata": {
      "needs_background": "light"
     },
     "output_type": "display_data"
    }
   ],
   "source": [
    "plot_history(model.train_vector,model.test_vector)"
   ]
  },
  {
   "cell_type": "markdown",
   "metadata": {},
   "source": [
    "## Input images"
   ]
  },
  {
   "cell_type": "code",
   "execution_count": 6,
   "metadata": {},
   "outputs": [
    {
     "data": {
      "image/png": "[encoded data removed]",
      "text/plain": [
       "<Figure size 1440x7200 with 10 Axes>"
      ]
     },
     "metadata": {
      "needs_background": "light"
     },
     "output_type": "display_data"
    }
   ],
   "source": [
    "plot_images(model.batch_img, 'Inputs')"
   ]
  },
  {
   "cell_type": "markdown",
   "metadata": {},
   "source": [
    "## Output images"
   ]
  },
  {
   "cell_type": "code",
   "execution_count": 7,
   "metadata": {},
   "outputs": [
    {
     "data": {
      "image/png": "[encoded data removed]",
      "text/plain": [
       "<Figure size 1440x7200 with 10 Axes>"
      ]
     },
     "metadata": {
      "needs_background": "light"
     },
     "output_type": "display_data"
    }
   ],
   "source": [
    "plot_images(model.recon_img, 'Outputs')"
   ]
  },
  {
   "cell_type": "markdown",
   "metadata": {},
   "source": [
    "## Reconstructed images"
   ]
  },
  {
   "cell_type": "code",
   "execution_count": 8,
   "metadata": {},
   "outputs": [
    {
     "data": {
      "image/png": "[encoded data removed]",
      "text/plain": [
       "<Figure size 1440x7200 with 10 Axes>"
      ]
     },
     "metadata": {
      "needs_background": "light"
     },
     "output_type": "display_data"
    }
   ],
   "source": [
    "plot_images(model.new_output, 'Reconstruction')"
   ]
  },
  {
   "cell_type": "markdown",
   "metadata": {},
   "source": [
    "### Reconstruction images"
   ]
  },
  {
   "cell_type": "code",
   "execution_count": 9,
   "metadata": {},
   "outputs": [
    {
     "data": {
      "image/png": "[encoded data removed]",
      "text/plain": [
       "<Figure size 1440x7200 with 10 Axes>"
      ]
     },
     "metadata": {
      "needs_background": "light"
     },
     "output_type": "display_data"
    }
   ],
   "source": [
    "model.generator_data()"
   ]
  }
 ],
 "metadata": {
  "accelerator": "GPU",
  "colab": {
   "collapsed_sections": [],
   "name": "Train_DCVAE_MPS45_tensorflow.ipynb",
   "provenance": [],
   "version": "0.3.2"
  },
  "kernelspec": {
   "display_name": "Python 3",
   "language": "python",
   "name": "python3"
  },
  "language_info": {
   "codemirror_mode": {
    "name": "ipython",
    "version": 3
   },
   "file_extension": ".py",
   "mimetype": "text/x-python",
   "name": "python",
   "nbconvert_exporter": "python",
   "pygments_lexer": "ipython3",
   "version": "3.6.8"
  }
 },
 "nbformat": 4,
 "nbformat_minor": 1
}
