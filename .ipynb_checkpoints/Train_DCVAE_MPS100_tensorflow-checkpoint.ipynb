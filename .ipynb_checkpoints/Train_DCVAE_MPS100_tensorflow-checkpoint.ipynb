{
 "cells": [
  {
   "cell_type": "code",
   "execution_count": 1,
   "metadata": {},
   "outputs": [
    {
     "name": "stderr",
     "output_type": "stream",
     "text": [
      "Using TensorFlow backend.\n"
     ]
    }
   ],
   "source": [
    "import tensorflow as tf\n",
    "from Model.DCVAE_TF import DCVAE\n",
    "from Model.Utils import MPS_Generator,plot_images, plot_history"
   ]
  },
  {
   "cell_type": "markdown",
   "metadata": {},
   "source": [
    "## Load DataSet"
   ]
  },
  {
   "cell_type": "code",
   "execution_count": 2,
   "metadata": {},
   "outputs": [],
   "source": [
    "def load_data_set(path_tfRecord):\n",
    "    gen_train = MPS_Generator(path_tfRecord,4)\n",
    "    gen_train = MPS_Generator(path_tfRecord, gen_train.num)\n",
    "    x_train = gen_train.get_numpy_batch().astype('float32')\n",
    "    return x_train\n",
    "x_train = load_data_set('DataSet/MPS100/train.tfrecords')\n",
    "x_test =load_data_set('DataSet/MPS100/test_val.tfrecords')"
   ]
  },
  {
   "cell_type": "markdown",
   "metadata": {},
   "source": [
    "## Build Model"
   ]
  },
  {
   "cell_type": "code",
   "execution_count": 3,
   "metadata": {},
   "outputs": [],
   "source": [
    "model = DCVAE(input_shape=(100,100,2), latent_cont_dim=500, opt=tf.train.AdamOptimizer(),\n",
    "              hidden_dim=5000, filters=(32,32,16), strides=(2,2,1), dropout=0.1,lr=0.001)"
   ]
  },
  {
   "cell_type": "markdown",
   "metadata": {},
   "source": [
    "## Train  Network"
   ]
  },
  {
   "cell_type": "code",
   "execution_count": 4,
   "metadata": {
    "scrolled": true
   },
   "outputs": [
    {
     "name": "stdout",
     "output_type": "stream",
     "text": [
      "WARNING:tensorflow:From /usr/local/lib/python3.5/dist-packages/tensorflow/python/ops/resource_variable_ops.py:435: colocate_with (from tensorflow.python.framework.ops) is deprecated and will be removed in a future version.\n",
      "Instructions for updating:\n",
      "Colocations handled automatically by placer.\n",
      "WARNING:tensorflow:From /share/GeoFacies/GeoFacies_DL/Model/DCVAE_TF.py:112: dropout (from tensorflow.python.layers.core) is deprecated and will be removed in a future version.\n",
      "Instructions for updating:\n",
      "Use keras.layers.dropout instead.\n",
      "WARNING:tensorflow:From /share/GeoFacies/GeoFacies_DL/Model/DCVAE_TF.py:148: conv2d_transpose (from tensorflow.python.layers.convolutional) is deprecated and will be removed in a future version.\n",
      "Instructions for updating:\n",
      "Use keras.layers.conv2d_transpose instead.\n",
      "WARNING:tensorflow:From /share/GeoFacies/GeoFacies_DL/Model/DCVAE_TF.py:156: conv2d (from tensorflow.python.layers.convolutional) is deprecated and will be removed in a future version.\n",
      "Instructions for updating:\n",
      "Use keras.layers.conv2d instead.\n",
      "WARNING:tensorflow:From /share/GeoFacies/GeoFacies_DL/Model/DCVAE_TF.py:80: flatten (from tensorflow.python.layers.core) is deprecated and will be removed in a future version.\n",
      "Instructions for updating:\n",
      "Use keras.layers.flatten instead.\n",
      "WARNING:tensorflow:From /usr/local/lib/python3.5/dist-packages/tensorflow/python/ops/math_ops.py:3066: to_int32 (from tensorflow.python.ops.math_ops) is deprecated and will be removed in a future version.\n",
      "Instructions for updating:\n",
      "Use tf.cast instead.\n",
      "Epoch: 1 - Train cost= 5945.62597656\n",
      "Epoch: 1 - Test cost= 3454.63403320\n",
      "Epoch: 2 - Train cost= 2613.69726562\n",
      "Epoch: 2 - Test cost= 2380.83032227\n",
      "Epoch: 3 - Train cost= 2083.90234375\n",
      "Epoch: 3 - Test cost= 1974.86926270\n",
      "Epoch: 4 - Train cost= 1907.49426270\n",
      "Epoch: 4 - Test cost= 1924.60009766\n",
      "Epoch: 5 - Train cost= 1804.89331055\n",
      "Epoch: 5 - Test cost= 1796.74206543\n",
      "Epoch: 6 - Train cost= 1731.52954102\n",
      "Epoch: 6 - Test cost= 1762.62951660\n",
      "Epoch: 7 - Train cost= 1675.24536133\n",
      "Epoch: 7 - Test cost= 1728.51977539\n",
      "Epoch: 8 - Train cost= 1629.58618164\n",
      "Epoch: 8 - Test cost= 1682.98913574\n",
      "Epoch: 9 - Train cost= 1588.96923828\n",
      "Epoch: 9 - Test cost= 1624.66113281\n",
      "Epoch: 10 - Train cost= 1554.38537598\n",
      "Epoch: 10 - Test cost= 1626.37145996\n",
      "Epoch: 11 - Train cost= 1525.23278809\n",
      "Epoch: 11 - Test cost= 1576.13110352\n",
      "Epoch: 12 - Train cost= 1499.77246094\n",
      "Epoch: 12 - Test cost= 1547.00476074\n",
      "Epoch: 13 - Train cost= 1477.25061035\n",
      "Epoch: 13 - Test cost= 1542.35046387\n",
      "Epoch: 14 - Train cost= 1456.68371582\n",
      "Epoch: 14 - Test cost= 1511.72509766\n",
      "Epoch: 15 - Train cost= 1440.66027832\n",
      "Epoch: 15 - Test cost= 1508.33032227\n",
      "Epoch: 16 - Train cost= 1429.60449219\n",
      "Epoch: 16 - Test cost= 1467.29772949\n",
      "Epoch: 17 - Train cost= 1406.82739258\n",
      "Epoch: 17 - Test cost= 1485.69592285\n",
      "Epoch: 18 - Train cost= 1400.68481445\n",
      "Epoch: 18 - Test cost= 1472.92138672\n",
      "Epoch: 19 - Train cost= 1387.07983398\n",
      "Epoch: 19 - Test cost= 1475.21826172\n",
      "Epoch: 20 - Train cost= 1375.77270508\n",
      "Epoch: 20 - Test cost= 1463.18127441\n",
      "Epoch: 21 - Train cost= 1373.07324219\n",
      "Epoch: 21 - Test cost= 1452.43652344\n",
      "Epoch: 22 - Train cost= 1355.09350586\n",
      "Epoch: 22 - Test cost= 1450.47460938\n",
      "Epoch: 23 - Train cost= 1351.21813965\n",
      "Epoch: 23 - Test cost= 1446.65100098\n",
      "Epoch: 24 - Train cost= 1343.39086914\n",
      "Epoch: 24 - Test cost= 1443.66918945\n",
      "Epoch: 25 - Train cost= 1337.62182617\n",
      "Epoch: 25 - Test cost= 1446.84521484\n",
      "Epoch: 26 - Train cost= 1332.51977539\n",
      "Epoch: 26 - Test cost= 1426.33557129\n",
      "Epoch: 27 - Train cost= 1326.17431641\n",
      "Epoch: 27 - Test cost= 1425.55725098\n",
      "Epoch: 28 - Train cost= 1323.29638672\n",
      "Epoch: 28 - Test cost= 1466.95166016\n",
      "Epoch: 29 - Train cost= 1317.19030762\n",
      "Epoch: 29 - Test cost= 1456.94628906\n",
      "Epoch: 30 - Train cost= 1310.27050781\n",
      "Epoch: 30 - Test cost= 1438.81872559\n",
      "Epoch: 31 - Train cost= 1305.85009766\n",
      "Epoch: 31 - Test cost= 1463.67041016\n",
      "Epoch: 32 - Train cost= 1220.48596191\n",
      "Epoch: 32 - Test cost= 1348.27075195\n",
      "Epoch: 33 - Train cost= 1200.06250000\n",
      "Epoch: 33 - Test cost= 1338.18603516\n",
      "Epoch: 34 - Train cost= 1193.08825684\n",
      "Epoch: 34 - Test cost= 1332.79760742\n",
      "Epoch: 35 - Train cost= 1189.15014648\n",
      "Epoch: 35 - Test cost= 1330.38269043\n",
      "Epoch: 36 - Train cost= 1185.80798340\n",
      "Epoch: 36 - Test cost= 1326.99768066\n",
      "Epoch: 37 - Train cost= 1183.37634277\n",
      "Epoch: 37 - Test cost= 1325.71008301\n",
      "Epoch: 38 - Train cost= 1181.22351074\n",
      "Epoch: 38 - Test cost= 1324.09191895\n",
      "Epoch: 39 - Train cost= 1179.24914551\n",
      "Epoch: 39 - Test cost= 1323.20275879\n",
      "Epoch: 40 - Train cost= 1177.69543457\n",
      "Epoch: 40 - Test cost= 1322.07604980\n",
      "Epoch: 41 - Train cost= 1175.93884277\n",
      "Epoch: 41 - Test cost= 1321.91076660\n",
      "Epoch: 42 - Train cost= 1174.51379395\n",
      "Epoch: 42 - Test cost= 1319.47705078\n",
      "Epoch: 43 - Train cost= 1173.43078613\n",
      "Epoch: 43 - Test cost= 1319.49267578\n",
      "Epoch: 44 - Train cost= 1171.92846680\n",
      "Epoch: 44 - Test cost= 1318.13366699\n",
      "Epoch: 45 - Train cost= 1170.86328125\n",
      "Epoch: 45 - Test cost= 1317.77062988\n",
      "Epoch: 46 - Train cost= 1169.42980957\n",
      "Epoch: 46 - Test cost= 1317.17553711\n",
      "Epoch: 47 - Train cost= 1168.32995605\n",
      "Epoch: 47 - Test cost= 1316.73205566\n",
      "Epoch: 48 - Train cost= 1167.26977539\n",
      "Epoch: 48 - Test cost= 1316.21826172\n",
      "Epoch: 49 - Train cost= 1166.24597168\n",
      "Epoch: 49 - Test cost= 1315.41735840\n",
      "Epoch: 50 - Train cost= 1165.20373535\n",
      "Epoch: 50 - Test cost= 1315.03552246\n",
      "Epoch: 51 - Train cost= 1164.31359863\n",
      "Epoch: 51 - Test cost= 1315.30004883\n",
      "Epoch: 52 - Train cost= 1163.24621582\n",
      "Epoch: 52 - Test cost= 1315.06823730\n",
      "Epoch: 53 - Train cost= 1162.28430176\n",
      "Epoch: 53 - Test cost= 1314.44506836\n",
      "Epoch: 54 - Train cost= 1161.60656738\n",
      "Epoch: 54 - Test cost= 1315.59252930\n",
      "Epoch: 55 - Train cost= 1160.47070312\n",
      "Epoch: 55 - Test cost= 1314.04272461\n",
      "Epoch: 56 - Train cost= 1159.34069824\n",
      "Epoch: 56 - Test cost= 1313.70080566\n",
      "Epoch: 57 - Train cost= 1158.85083008\n",
      "Epoch: 57 - Test cost= 1313.64868164\n",
      "Epoch: 58 - Train cost= 1158.11962891\n",
      "Epoch: 58 - Test cost= 1313.30261230\n",
      "Epoch: 59 - Train cost= 1157.24194336\n",
      "Epoch: 59 - Test cost= 1312.04443359\n",
      "Epoch: 60 - Train cost= 1156.55883789\n",
      "Epoch: 60 - Test cost= 1311.49414062\n",
      "Epoch: 61 - Train cost= 1155.61840820\n",
      "Epoch: 61 - Test cost= 1312.29077148\n",
      "Epoch: 62 - Train cost= 1154.75207520\n",
      "Epoch: 62 - Test cost= 1312.79772949\n",
      "Epoch: 63 - Train cost= 1154.12097168\n",
      "Epoch: 63 - Test cost= 1313.62951660\n",
      "Epoch: 64 - Train cost= 1153.67199707\n",
      "Epoch: 64 - Test cost= 1311.72180176\n",
      "Epoch: 65 - Train cost= 1152.94873047\n",
      "Epoch: 65 - Test cost= 1310.67712402\n",
      "Epoch: 66 - Train cost= 1152.21801758\n",
      "Epoch: 66 - Test cost= 1310.54724121\n",
      "Epoch: 67 - Train cost= 1151.51257324\n",
      "Epoch: 67 - Test cost= 1312.36035156\n",
      "Epoch: 68 - Train cost= 1151.36840820\n",
      "Epoch: 68 - Test cost= 1313.20776367\n",
      "Epoch: 69 - Train cost= 1147.29174805\n",
      "Epoch: 69 - Test cost= 1308.35949707\n",
      "Epoch: 70 - Train cost= 1145.76965332\n",
      "Epoch: 70 - Test cost= 1308.42150879\n",
      "Epoch: 71 - Train cost= 1145.29443359\n",
      "Epoch: 71 - Test cost= 1308.16064453\n",
      "Epoch: 72 - Train cost= 1145.29455566\n",
      "Epoch: 72 - Test cost= 1307.16967773\n",
      "Epoch: 73 - Train cost= 1144.79760742\n",
      "Epoch: 73 - Test cost= 1307.75708008\n",
      "Epoch: 74 - Train cost= 1144.74084473\n",
      "Epoch: 74 - Test cost= 1306.46862793\n",
      "Epoch: 75 - Train cost= 1144.17822266\n",
      "Epoch: 75 - Test cost= 1306.96765137\n",
      "Epoch: 76 - Train cost= 1143.71276855\n",
      "Epoch: 76 - Test cost= 1306.81506348\n",
      "Epoch: 77 - Train cost= 1143.93811035\n",
      "Epoch: 77 - Test cost= 1306.75903320\n",
      "Epoch: 78 - Train cost= 1143.71765137\n",
      "Epoch: 78 - Test cost= 1306.25939941\n",
      "Epoch: 79 - Train cost= 1143.44970703\n",
      "Epoch: 79 - Test cost= 1305.83056641\n",
      "Epoch: 80 - Train cost= 1143.17565918\n",
      "Epoch: 80 - Test cost= 1306.23767090\n",
      "Epoch: 81 - Train cost= 1143.34436035\n",
      "Epoch: 81 - Test cost= 1306.12536621\n",
      "Epoch: 82 - Train cost= 1142.97106934\n",
      "Epoch: 82 - Test cost= 1305.51843262\n",
      "Epoch: 83 - Train cost= 1143.23596191\n",
      "Epoch: 83 - Test cost= 1305.67846680\n",
      "Epoch: 84 - Train cost= 1142.53271484\n",
      "Epoch: 84 - Test cost= 1306.71191406\n",
      "Epoch: 85 - Train cost= 1142.49780273\n",
      "Epoch: 85 - Test cost= 1306.49609375\n",
      "Epoch: 86 - Train cost= 1142.58996582\n",
      "Epoch: 86 - Test cost= 1306.13452148\n",
      "Epoch: 87 - Train cost= 1142.35913086\n",
      "Epoch: 87 - Test cost= 1306.17602539\n",
      "Epoch: 88 - Train cost= 1142.33276367\n",
      "Epoch: 88 - Test cost= 1305.62976074\n",
      "Epoch: 89 - Train cost= 1142.10412598\n",
      "Epoch: 89 - Test cost= 1305.59777832\n",
      "Epoch: 90 - Train cost= 1142.34936523\n"
     ]
    },
    {
     "name": "stdout",
     "output_type": "stream",
     "text": [
      "Epoch: 90 - Test cost= 1305.61340332\n",
      "Epoch: 91 - Train cost= 1142.19055176\n",
      "Epoch: 91 - Test cost= 1306.09411621\n",
      "Epoch: 92 - Train cost= 1141.77124023\n",
      "Epoch: 92 - Test cost= 1305.41748047\n",
      "Epoch: 93 - Train cost= 1141.70739746\n",
      "Epoch: 93 - Test cost= 1306.05993652\n",
      "Epoch: 94 - Train cost= 1141.78442383\n",
      "Epoch: 94 - Test cost= 1305.78332520\n",
      "Epoch: 95 - Train cost= 1141.82202148\n",
      "Epoch: 95 - Test cost= 1305.19494629\n",
      "Epoch: 96 - Train cost= 1141.93103027\n",
      "Epoch: 96 - Test cost= 1306.05737305\n",
      "Epoch: 97 - Train cost= 1141.62451172\n",
      "Epoch: 97 - Test cost= 1305.06298828\n",
      "Epoch: 98 - Train cost= 1141.63476562\n",
      "Epoch: 98 - Test cost= 1304.86816406\n",
      "Epoch: 99 - Train cost= 1141.41918945\n",
      "Epoch: 99 - Test cost= 1304.92749023\n",
      "Epoch: 100 - Train cost= 1141.42248535\n",
      "Epoch: 100 - Test cost= 1305.58264160\n",
      "Epoch: 101 - Train cost= 1141.71435547\n",
      "Epoch: 101 - Test cost= 1305.19897461\n",
      "Epoch: 102 - Train cost= 1141.66003418\n",
      "Epoch: 102 - Test cost= 1305.92468262\n",
      "Epoch: 103 - Train cost= 1141.56359863\n",
      "Epoch: 103 - Test cost= 1305.39172363\n",
      "Epoch: 104 - Train cost= 1141.78894043\n",
      "Epoch: 104 - Test cost= 1304.95617676\n",
      "Epoch: 105 - Train cost= 1141.42907715\n",
      "Epoch: 105 - Test cost= 1304.67041016\n",
      "Epoch: 106 - Train cost= 1141.43811035\n",
      "Epoch: 106 - Test cost= 1305.34948730\n",
      "Epoch: 107 - Train cost= 1141.29028320\n",
      "Epoch: 107 - Test cost= 1305.78869629\n"
     ]
    }
   ],
   "source": [
    "model.fit(x_train, x_test, epoch=150, batch_size=128,x=10,steph_epoch=10)"
   ]
  },
  {
   "cell_type": "markdown",
   "metadata": {},
   "source": [
    "## Train History"
   ]
  },
  {
   "cell_type": "code",
   "execution_count": 5,
   "metadata": {},
   "outputs": [
    {
     "data": {
      "image/png": "[encoded data removed]",
      "text/plain": [
       "<Figure size 432x288 with 1 Axes>"
      ]
     },
     "metadata": {
      "needs_background": "light"
     },
     "output_type": "display_data"
    }
   ],
   "source": [
    "plot_history(model.train_vector,model.test_vector)"
   ]
  },
  {
   "cell_type": "markdown",
   "metadata": {},
   "source": [
    "## Input images"
   ]
  },
  {
   "cell_type": "code",
   "execution_count": 6,
   "metadata": {},
   "outputs": [
    {
     "data": {
      "image/png": "[encoded data removed]",
      "text/plain": [
       "<Figure size 1440x7200 with 10 Axes>"
      ]
     },
     "metadata": {
      "needs_background": "light"
     },
     "output_type": "display_data"
    }
   ],
   "source": [
    "plot_images(model.batch_img, 'Inputs')"
   ]
  },
  {
   "cell_type": "markdown",
   "metadata": {},
   "source": [
    "## Output images"
   ]
  },
  {
   "cell_type": "code",
   "execution_count": 7,
   "metadata": {},
   "outputs": [
    {
     "data": {
      "image/png": "[encoded data removed]",
      "text/plain": [
       "<Figure size 1440x7200 with 10 Axes>"
      ]
     },
     "metadata": {
      "needs_background": "light"
     },
     "output_type": "display_data"
    }
   ],
   "source": [
    "plot_images(model.recon_img, 'Outputs')"
   ]
  },
  {
   "cell_type": "markdown",
   "metadata": {},
   "source": [
    "## Reconstracted images"
   ]
  },
  {
   "cell_type": "code",
   "execution_count": 8,
   "metadata": {},
   "outputs": [
    {
     "data": {
      "image/png": "[encoded data removed]",
      "text/plain": [
       "<Figure size 1440x7200 with 10 Axes>"
      ]
     },
     "metadata": {
      "needs_background": "light"
     },
     "output_type": "display_data"
    }
   ],
   "source": [
    "plot_images(model.new_output, 'Reconstruction')"
   ]
  },
  {
   "cell_type": "code",
   "execution_count": null,
   "metadata": {},
   "outputs": [],
   "source": []
  }
 ],
 "metadata": {
  "accelerator": "GPU",
  "colab": {
   "collapsed_sections": [],
   "name": "Train_DCVAE_MPS45_tensorflow.ipynb",
   "provenance": [],
   "version": "0.3.2"
  },
  "kernelspec": {
   "display_name": "Python 3",
   "language": "python",
   "name": "python3"
  },
  "language_info": {
   "codemirror_mode": {
    "name": "ipython",
    "version": 3
   },
   "file_extension": ".py",
   "mimetype": "text/x-python",
   "name": "python",
   "nbconvert_exporter": "python",
   "pygments_lexer": "ipython3",
   "version": "3.5.2"
  }
 },
 "nbformat": 4,
 "nbformat_minor": 1
}
