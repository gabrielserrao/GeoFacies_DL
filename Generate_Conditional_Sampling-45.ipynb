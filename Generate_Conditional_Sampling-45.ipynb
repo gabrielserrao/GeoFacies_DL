{
 "cells": [
  {
   "cell_type": "code",
   "execution_count": 1,
   "metadata": {},
   "outputs": [
    {
     "name": "stderr",
     "output_type": "stream",
     "text": [
      "Using TensorFlow backend.\n"
     ]
    }
   ],
   "source": [
    "from HistoryMatching.ReadFiles import ReadObsFile\n",
    "from HistoryMatching.Utils import GerenateObsFile,Contitional_ES_MDA,Plot_Result\n",
    "from HistoryMatching.ModelDL import *\n",
    "from Model.Utils import MPS_Generator\n",
    "import numpy as np"
   ]
  },
  {
   "cell_type": "markdown",
   "metadata": {},
   "source": [
    "# Load Ensemble Data"
   ]
  },
  {
   "cell_type": "code",
   "execution_count": 2,
   "metadata": {},
   "outputs": [],
   "source": [
    "generator = MPS_Generator('DataSet/MPS45/test_val.tfrecords',200)\n",
    "Facies = generator.get_numpy_batch()\n",
    "Facies = np.argmax(Facies,axis=-1).reshape((200,45*45)).T"
   ]
  },
  {
   "cell_type": "markdown",
   "metadata": {},
   "source": [
    "# Generate Measurement"
   ]
  },
  {
   "cell_type": "code",
   "execution_count": 3,
   "metadata": {},
   "outputs": [
    {
     "name": "stdout",
     "output_type": "stream",
     "text": [
      "[1, 0, 1, 1, 1, 0, 1]\n"
     ]
    }
   ],
   "source": [
    "GenerateMeasurement=True\n",
    "import scipy.io as sio\n",
    "True45 = sio.loadmat('DataSet/True45.mat')\n",
    "True45 = True45['True']\n",
    "if GenerateMeasurement:\n",
    "    \"\"\n",
    "    \"\"\n",
    "    xp = [2,37,7,33]      # produtor well\n",
    "    yp = [22,4,42,41]     # produtor well\n",
    "    xi = [7,24,42]        # injetor well\n",
    "    yi = [4,14,26]        # injetor well\n",
    "    position=np.array([yp+yi] + [xp+xi]).T\n",
    "    obs=GerenateObsFile(position,True45)\n",
    "    print(obs)"
   ]
  },
  {
   "cell_type": "markdown",
   "metadata": {},
   "source": [
    "# Test #1\n",
    "<ul>\n",
    "    <li> File utilizado: 'Obs.dat' </li>\n",
    "        <ul>\n",
    "            <li> xp = [2,37,7,33] - Poço produtor </li>\n",
    "            <li> yp = [22,4,42,41] - Poço produtor </li>\n",
    "            <li> xi = [7,24,42] - Poço injetor </li>\n",
    "            <li> yi = [4,14,26] - Poço injetor </li>\n",
    "        </ul>\n",
    "    </li>\n",
    "    <li> position = np.array([yp+yi] + [xp+xi]).T </li>\n",
    "</ul>\n",
    "    "
   ]
  },
  {
   "cell_type": "markdown",
   "metadata": {},
   "source": [
    "## Read Observation File"
   ]
  },
  {
   "cell_type": "code",
   "execution_count": 4,
   "metadata": {},
   "outputs": [],
   "source": [
    "obs,R,t_acu,act,produccion = ReadObsFile('Obs.dat')"
   ]
  },
  {
   "cell_type": "code",
   "execution_count": 5,
   "metadata": {},
   "outputs": [
    {
     "name": "stdout",
     "output_type": "stream",
     "text": [
      "WARNING:tensorflow:From /usr/local/lib/python3.5/dist-packages/tensorflow/python/framework/op_def_library.py:263: colocate_with (from tensorflow.python.framework.ops) is deprecated and will be removed in a future version.\n",
      "Instructions for updating:\n",
      "Colocations handled automatically by placer.\n",
      "WARNING:tensorflow:From /work/Smith/.local/lib/python3.5/site-packages/keras/backend/tensorflow_backend.py:3445: calling dropout (from tensorflow.python.ops.nn_ops) with keep_prob is deprecated and will be removed in a future version.\n",
      "Instructions for updating:\n",
      "Please use `rate` instead of `keep_prob`. Rate should be set to `rate = 1 - keep_prob`.\n"
     ]
    }
   ],
   "source": [
    "model = {'redePath':'Model/TrainModel/CVAE45',\n",
    "        'PCA' : False,\n",
    "        'IsGans' : False,\n",
    "        'Model_Dim' : (45,45,1),\n",
    "        'toCategorical' : True,\n",
    "        'isTanh' : False,\n",
    "        'NumFacies' :2}\n",
    "network = ModelDL(model)"
   ]
  },
  {
   "cell_type": "markdown",
   "metadata": {},
   "source": [
    "## Generate parameterized Facies data"
   ]
  },
  {
   "cell_type": "code",
   "execution_count": 6,
   "metadata": {},
   "outputs": [],
   "source": [
    "m_x  = network.predict(Facies, is_update=False)"
   ]
  },
  {
   "cell_type": "markdown",
   "metadata": {},
   "source": [
    "## Reconstucted Initial Facies data"
   ]
  },
  {
   "cell_type": "code",
   "execution_count": 7,
   "metadata": {},
   "outputs": [],
   "source": [
    "m_f = network.predict(m_x)"
   ]
  },
  {
   "cell_type": "markdown",
   "metadata": {},
   "source": [
    "## Execute ES-MDA for generate Contidional Sampling"
   ]
  },
  {
   "cell_type": "code",
   "execution_count": 8,
   "metadata": {
    "scrolled": false
   },
   "outputs": [
    {
     "name": "stdout",
     "output_type": "stream",
     "text": [
      "Erro ite_ 0  :  800.0\n",
      "Erro ite_ 1  :  394.0\n",
      "Erro ite_ 2  :  165.0\n",
      "Erro ite_ 3  :  78.0\n",
      "Erro ite_ 4  :  42.0\n",
      "Erro ite_ 5  :  34.0\n",
      "Erro ite_ 6  :  17.0\n",
      "Erro ite_ 7  :  9.0\n",
      "Erro ite_ 8  :  6.0\n",
      "Erro ite_ 9  :  3.0\n",
      "Erro End:  3.0\n"
     ]
    }
   ],
   "source": [
    "m_f_a=Contitional_ES_MDA(10,[],position,obs,R,m_x,m_f,[45,45],redeVAE=network)"
   ]
  },
  {
   "cell_type": "markdown",
   "metadata": {},
   "source": [
    "## Plot True Model and Result"
   ]
  },
  {
   "cell_type": "code",
   "execution_count": 9,
   "metadata": {
    "scrolled": false
   },
   "outputs": [
    {
     "data": {
      "image/png": "[encoded data removed]",
      "text/plain": [
       "<Figure size 432x288 with 1 Axes>"
      ]
     },
     "metadata": {
      "needs_background": "light"
     },
     "output_type": "display_data"
    }
   ],
   "source": [
    "import matplotlib.pyplot as plt\n",
    "#%matplotlib notebook\n",
    "plt.imshow(True45.reshape((45,45)),cmap='jet')\n",
    "plt.plot(xp,yp,'^',color='yellow')\n",
    "plt.plot(xi,yi,'o',color='green')\n",
    "plt.axis('off')\n",
    "plt.show()"
   ]
  },
  {
   "cell_type": "code",
   "execution_count": 10,
   "metadata": {},
   "outputs": [
    {
     "data": {
      "image/png": "[encoded data removed]",
      "text/plain": [
       "<Figure size 1080x576 with 20 Axes>"
      ]
     },
     "metadata": {
      "needs_background": "light"
     },
     "output_type": "display_data"
    }
   ],
   "source": [
    "Plot_Result(Facies,m_f_a,xp,yp,xi,yi,initial_data=0) "
   ]
  },
  {
   "cell_type": "markdown",
   "metadata": {},
   "source": [
    "# Teste 2\n",
    "\n",
    "<ul>\n",
    "    <li> Arquivo utilizado: 'Obs2.dat' </li>\n",
    "    <li> Pontos utilizados:\n",
    "        <ul>\n",
    "            <li> xe = [2,8,18,33,41,44,2,10,26,38,44] </li>\n",
    "            <li> ye = [40,34,27,23,19,7,15,10,1,40,36] </li>\n",
    "            <li> xi = [] </li>\n",
    "            <li> yi = [] </li>\n",
    "        </ul>\n",
    "    </li>\n",
    "    <li> position = np.array([ye] + [xe]).T </li>\n",
    "</ul>"
   ]
  },
  {
   "cell_type": "code",
   "execution_count": 11,
   "metadata": {},
   "outputs": [
    {
     "name": "stdout",
     "output_type": "stream",
     "text": [
      "[0, 0, 0, 0, 0, 1, 0, 0, 0, 0, 1, 0, 1, 1, 1, 1, 1, 0, 1, 0]\n"
     ]
    }
   ],
   "source": [
    "GenerateMeasurement=True\n",
    "import scipy.io as sio\n",
    "True45 = sio.loadmat('DataSet/True45.mat')\n",
    "True45 = True45['True']\n",
    "if GenerateMeasurement:\n",
    "    \"\"\n",
    "    \"\"\n",
    "    xe=[2,12,22,32,42,2,12,22,32,42,2,12,22,32,42,2,12,22,32,42]\n",
    "    ye=[3, 3 ,3,3,3,16,16,16,16,16,28,28,28,28,28,42,42,42,42,42]\n",
    "    #xe = [2, 8, 18,33,41,44,2 ,10,26,38,44]\n",
    "    #ye = [40,34,30,28,25,7 ,15,10,1 ,40,36]\n",
    "    position=np.array([ye] + [xe]).T\n",
    "    obs=GerenateObsFile(position,True45,filePath='Obs2.dat')\n",
    "    print(obs)"
   ]
  },
  {
   "cell_type": "markdown",
   "metadata": {},
   "source": [
    "## Read Observation File"
   ]
  },
  {
   "cell_type": "code",
   "execution_count": 12,
   "metadata": {},
   "outputs": [],
   "source": [
    "obs,R,t_acu,act,produccion = ReadObsFile('Obs2.dat')"
   ]
  },
  {
   "cell_type": "markdown",
   "metadata": {},
   "source": [
    "## Generate parameterized Facies data"
   ]
  },
  {
   "cell_type": "code",
   "execution_count": 13,
   "metadata": {},
   "outputs": [],
   "source": [
    "m_x  = network.predict(Facies, is_update=False)"
   ]
  },
  {
   "cell_type": "markdown",
   "metadata": {},
   "source": [
    "## Reconstucted Initial Facies data\n"
   ]
  },
  {
   "cell_type": "code",
   "execution_count": 14,
   "metadata": {},
   "outputs": [],
   "source": [
    "m_f = network.predict(m_x)"
   ]
  },
  {
   "cell_type": "markdown",
   "metadata": {},
   "source": [
    "## Execute ES-MDA for generate Contidional Sampling"
   ]
  },
  {
   "cell_type": "code",
   "execution_count": 15,
   "metadata": {
    "scrolled": true
   },
   "outputs": [
    {
     "name": "stdout",
     "output_type": "stream",
     "text": [
      "Erro ite_ 0  :  1797.0\n",
      "Erro ite_ 1  :  1061.0\n",
      "Erro ite_ 2  :  561.0\n",
      "Erro ite_ 3  :  347.0\n",
      "Erro ite_ 4  :  195.0\n",
      "Erro ite_ 5  :  110.0\n",
      "Erro ite_ 6  :  82.0\n",
      "Erro ite_ 7  :  60.0\n",
      "Erro ite_ 8  :  48.0\n",
      "Erro ite_ 9  :  41.0\n",
      "Erro End:  40.0\n"
     ]
    }
   ],
   "source": [
    "m_f_a=Contitional_ES_MDA(10,[],position,obs,R,m_x,m_f,[45,45],redeVAE=network)"
   ]
  },
  {
   "cell_type": "markdown",
   "metadata": {},
   "source": [
    "## Plot True Model and Result"
   ]
  },
  {
   "cell_type": "code",
   "execution_count": 16,
   "metadata": {},
   "outputs": [
    {
     "data": {
      "image/png": "[encoded data removed]",
      "text/plain": [
       "<Figure size 1080x576 with 1 Axes>"
      ]
     },
     "metadata": {
      "needs_background": "light"
     },
     "output_type": "display_data"
    }
   ],
   "source": [
    "import matplotlib.pyplot as plt\n",
    "#%matplotlib notebook\n",
    "plt.imshow(True45.reshape((45,45)),cmap='jet')\n",
    "plt.plot(xe,ye,'o',color='green')\n",
    "plt.axis('off')\n",
    "plt.show()"
   ]
  },
  {
   "cell_type": "code",
   "execution_count": 17,
   "metadata": {
    "scrolled": true
   },
   "outputs": [
    {
     "data": {
      "image/png": "[encoded data removed]",
      "text/plain": [
       "<Figure size 1080x576 with 20 Axes>"
      ]
     },
     "metadata": {
      "needs_background": "light"
     },
     "output_type": "display_data"
    }
   ],
   "source": [
    "Plot_Result(Facies,m_f_a,xe,ye,[],[],initial_data=0) "
   ]
  },
  {
   "cell_type": "markdown",
   "metadata": {},
   "source": [
    "# Generate Random Samples"
   ]
  },
  {
   "cell_type": "code",
   "execution_count": 18,
   "metadata": {},
   "outputs": [],
   "source": [
    "import numpy as np\n",
    "z_0=np.random.normal(0,1,size=(100,500))"
   ]
  },
  {
   "cell_type": "code",
   "execution_count": 19,
   "metadata": {},
   "outputs": [],
   "source": [
    "x_0 = network.predict(z_0.T)\n",
    "z_i  = z_0\n",
    "Z    = [x_0]\n",
    "for i in range(100):  \n",
    "    dz   = np.random.normal(0,0.01,size=(100,500)) \n",
    "    z_i  = z_i + dz   \n",
    "    x_i  = network.predict(z_i.T)\n",
    "    Z.append(x_i)"
   ]
  },
  {
   "cell_type": "code",
   "execution_count": 20,
   "metadata": {},
   "outputs": [],
   "source": [
    "def Plot_Random(facies,m_f_a,initial_data=0,marked='r^',shape=[45,45],sampling=[0,20]):\n",
    "    plt.rcParams['figure.figsize'] = (15,8)\n",
    "    fig, axs = plt.subplots(2,5)\n",
    "    #plt.title(title)\n",
    "    for i in range(5):\n",
    "        axs[0,i].imshow(facies[:,i+initial_data].reshape(shape[0],shape[1]), cmap='jet')\n",
    "        axs[0,i].axis('off')\n",
    "        axs[0,i].set_title('Sampling: x_%i (%i)'%(sampling[0],i+1))\n",
    "        axs[1,i].imshow(m_f_a[:,i+initial_data].reshape(shape[0],shape[1]), cmap='jet')        \n",
    "        axs[1,i].axis('off')\n",
    "        axs[1,i].set_title('Sampling: x_%i (%i)'%(sampling[1],i+1)) \n",
    "    plt.show()"
   ]
  },
  {
   "cell_type": "code",
   "execution_count": 21,
   "metadata": {},
   "outputs": [],
   "source": [
    "def plot_imagens(Z,index,num=5,shape=[45,45]):\n",
    "    plt.rcParams['figure.figsize'] = (15,8)\n",
    "    aux = Z[index]    \n",
    "    for i in range(num):\n",
    "        plt.imshow(aux[:,i].reshape(shape[0],shape[1]),cmap='jet')\n",
    "        plt.axis('off')\n",
    "        plt.show()"
   ]
  },
  {
   "cell_type": "code",
   "execution_count": 22,
   "metadata": {},
   "outputs": [
    {
     "data": {
      "image/png": "[encoded data removed]",
      "text/plain": [
       "<Figure size 1080x576 with 10 Axes>"
      ]
     },
     "metadata": {
      "needs_background": "light"
     },
     "output_type": "display_data"
    },
    {
     "data": {
      "image/png": "[encoded data removed]",
      "text/plain": [
       "<Figure size 1080x576 with 10 Axes>"
      ]
     },
     "metadata": {
      "needs_background": "light"
     },
     "output_type": "display_data"
    },
    {
     "data": {
      "image/png": "[encoded data removed]",
      "text/plain": [
       "<Figure size 1080x576 with 10 Axes>"
      ]
     },
     "metadata": {
      "needs_background": "light"
     },
     "output_type": "display_data"
    }
   ],
   "source": [
    "Plot_Random(Z[0],Z[20],initial_data=0,sampling=[0,20])\n",
    "Plot_Random(Z[40],Z[60],initial_data=0,sampling=[40,60])\n",
    "Plot_Random(Z[80],Z[100],initial_data=0,sampling=[80,100]) "
   ]
  }
 ],
 "metadata": {
  "kernelspec": {
   "display_name": "Python 3",
   "language": "python",
   "name": "python3"
  },
  "language_info": {
   "codemirror_mode": {
    "name": "ipython",
    "version": 3
   },
   "file_extension": ".py",
   "mimetype": "text/x-python",
   "name": "python",
   "nbconvert_exporter": "python",
   "pygments_lexer": "ipython3",
   "version": "3.5.2"
  }
 },
 "nbformat": 4,
 "nbformat_minor": 2
}
