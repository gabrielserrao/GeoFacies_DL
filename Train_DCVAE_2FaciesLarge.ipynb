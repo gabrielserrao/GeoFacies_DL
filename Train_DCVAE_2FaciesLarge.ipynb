{
 "cells": [
  {
   "cell_type": "code",
   "execution_count": 1,
   "metadata": {
    "scrolled": false
   },
   "outputs": [
    {
     "name": "stderr",
     "output_type": "stream",
     "text": [
      "Using TensorFlow backend.\n",
      "/usr/local/lib/python3.5/dist-packages/tensorflow/python/framework/dtypes.py:526: FutureWarning: Passing (type, 1) or '1type' as a synonym of type is deprecated; in a future version of numpy, it will be understood as (type, (1,)) / '(1,)type'.\n",
      "  _np_qint8 = np.dtype([(\"qint8\", np.int8, 1)])\n",
      "/usr/local/lib/python3.5/dist-packages/tensorflow/python/framework/dtypes.py:527: FutureWarning: Passing (type, 1) or '1type' as a synonym of type is deprecated; in a future version of numpy, it will be understood as (type, (1,)) / '(1,)type'.\n",
      "  _np_quint8 = np.dtype([(\"quint8\", np.uint8, 1)])\n",
      "/usr/local/lib/python3.5/dist-packages/tensorflow/python/framework/dtypes.py:528: FutureWarning: Passing (type, 1) or '1type' as a synonym of type is deprecated; in a future version of numpy, it will be understood as (type, (1,)) / '(1,)type'.\n",
      "  _np_qint16 = np.dtype([(\"qint16\", np.int16, 1)])\n",
      "/usr/local/lib/python3.5/dist-packages/tensorflow/python/framework/dtypes.py:529: FutureWarning: Passing (type, 1) or '1type' as a synonym of type is deprecated; in a future version of numpy, it will be understood as (type, (1,)) / '(1,)type'.\n",
      "  _np_quint16 = np.dtype([(\"quint16\", np.uint16, 1)])\n",
      "/usr/local/lib/python3.5/dist-packages/tensorflow/python/framework/dtypes.py:530: FutureWarning: Passing (type, 1) or '1type' as a synonym of type is deprecated; in a future version of numpy, it will be understood as (type, (1,)) / '(1,)type'.\n",
      "  _np_qint32 = np.dtype([(\"qint32\", np.int32, 1)])\n",
      "/usr/local/lib/python3.5/dist-packages/tensorflow/python/framework/dtypes.py:535: FutureWarning: Passing (type, 1) or '1type' as a synonym of type is deprecated; in a future version of numpy, it will be understood as (type, (1,)) / '(1,)type'.\n",
      "  np_resource = np.dtype([(\"resource\", np.ubyte, 1)])\n"
     ]
    },
    {
     "name": "stdout",
     "output_type": "stream",
     "text": [
      "WARNING:tensorflow:From /usr/local/lib/python3.5/dist-packages/tensorflow/python/framework/op_def_library.py:263: colocate_with (from tensorflow.python.framework.ops) is deprecated and will be removed in a future version.\n",
      "Instructions for updating:\n",
      "Colocations handled automatically by placer.\n"
     ]
    }
   ],
   "source": [
    "from Model.DCVAE import DCVAE\n",
    "from Model.Utils import PlotHistory, PlotDataAE, Save_Model\n",
    "from Model.Utils import load_from_tfrecords, convert_to_tfrecords, load_numpy\n",
    "from keras.optimizers import RMSprop,Adam\n",
    "import numpy as np\n",
    "# from sklearn.model_selection import train_test_split\n",
    "import tensorflow as tf\n",
    "import os\n",
    "%matplotlib notebook"
   ]
  },
  {
   "cell_type": "markdown",
   "metadata": {},
   "source": [
    "# Load DataSet"
   ]
  },
  {
   "cell_type": "code",
   "execution_count": 2,
   "metadata": {},
   "outputs": [],
   "source": [
    "load_tfrecords = True\n",
    "create_tfrecords = False\n",
    "\n",
    "path_tfr = 'DataSet/MPS40x200'\n",
    "path_npy = '/share_delta/GeoFacies/ModelosDeFacies/Model2FaciesLarge/DataSet.npy'\n",
    "batch_size = 32"
   ]
  },
  {
   "cell_type": "code",
   "execution_count": 3,
   "metadata": {
    "scrolled": true
   },
   "outputs": [
    {
     "name": "stdout",
     "output_type": "stream",
     "text": [
      "Data not found. Change 'create_tfrecords' to True\n"
     ]
    }
   ],
   "source": [
    "if load_tfrecords:    \n",
    "    if create_tfrecords: \n",
    "        x_train, x_test = load_numpy(path_npy,random_state=0,split_data=0.30)\n",
    "        convert_to_tfrecords(path_tfr,x_train,x_test)\n",
    "        gen_train, gen_test = load_from_tfrecords(path_tfr, batch_size)\n",
    "    else:\n",
    "        try:\n",
    "            gen_train, gen_test = load_from_tfrecords(path_tfr, batch_size)\n",
    "        except:\n",
    "            print(\"Data not found. Change 'create_tfrecords' to True\")\n",
    "else:\n",
    "    x_train, x_test = load_numpy(path_npy,random_state=0,split_data=0.30)"
   ]
  },
  {
   "cell_type": "markdown",
   "metadata": {},
   "source": [
    "# Create Convolutional Variational Autoencoder"
   ]
  },
  {
   "cell_type": "code",
   "execution_count": 6,
   "metadata": {},
   "outputs": [
    {
     "name": "stdout",
     "output_type": "stream",
     "text": [
      "test_val.tfrecords  train.tfrecords\r\n"
     ]
    }
   ],
   "source": [
    "!ls DataSet/MPS40x200"
   ]
  },
  {
   "cell_type": "code",
   "execution_count": 4,
   "metadata": {},
   "outputs": [],
   "source": [
    "path_weights = os.path.join(path_tfr, 'w40x200_Facies.hdf5')\n",
    "\n",
    "model = DCVAE(input_shape=(40, 200, 2),filters=[128,64,32],strides=[2,2,2],hidden_dim=2048,filepath=path_weights,\n",
    "               KernelDim=(7,5,3),latent_dim=1024,opt=Adam(1e-4),dropout=0.0,epochs_drop=200)"
   ]
  },
  {
   "cell_type": "markdown",
   "metadata": {},
   "source": [
    "# Training Network"
   ]
  },
  {
   "cell_type": "code",
   "execution_count": 5,
   "metadata": {},
   "outputs": [
    {
     "ename": "NameError",
     "evalue": "name 'gen_train' is not defined",
     "output_type": "error",
     "traceback": [
      "\u001b[0;31m---------------------------------------------------------------------------\u001b[0m",
      "\u001b[0;31mNameError\u001b[0m                                 Traceback (most recent call last)",
      "\u001b[0;32m<ipython-input-5-7d742f14e34b>\u001b[0m in \u001b[0;36m<module>\u001b[0;34m\u001b[0m\n\u001b[1;32m      2\u001b[0m \u001b[0;34m\u001b[0m\u001b[0m\n\u001b[1;32m      3\u001b[0m \u001b[0;32mif\u001b[0m \u001b[0mload_tfrecords\u001b[0m\u001b[0;34m:\u001b[0m\u001b[0;34m\u001b[0m\u001b[0m\n\u001b[0;32m----> 4\u001b[0;31m     \u001b[0mx_train\u001b[0m \u001b[0;34m=\u001b[0m \u001b[0mgen_train\u001b[0m\u001b[0;34m.\u001b[0m\u001b[0mmps_generator\u001b[0m\u001b[0;34m(\u001b[0m\u001b[0;34m)\u001b[0m\u001b[0;34m\u001b[0m\u001b[0m\n\u001b[0m\u001b[1;32m      5\u001b[0m     \u001b[0mx_val\u001b[0m   \u001b[0;34m=\u001b[0m \u001b[0mgen_test\u001b[0m\u001b[0;34m.\u001b[0m\u001b[0mmps_generator\u001b[0m\u001b[0;34m(\u001b[0m\u001b[0;34m)\u001b[0m\u001b[0;34m\u001b[0m\u001b[0m\n\u001b[1;32m      6\u001b[0m     model.fit_generator(x_train,\n",
      "\u001b[0;31mNameError\u001b[0m: name 'gen_train' is not defined"
     ]
    }
   ],
   "source": [
    "num_epochs = 500\n",
    "\n",
    "if load_tfrecords:\n",
    "    x_train = gen_train.mps_generator()\n",
    "    x_val   = gen_test.mps_generator()    \n",
    "    model.fit_generator(x_train,\n",
    "                        num_epochs=num_epochs, verbose=1, \n",
    "                        steps_per_epoch = len(gen_train),\n",
    "                        val_set = x_val,\n",
    "                        validation_steps = len(gen_test))\n",
    "else:    \n",
    "    model.fit(x_train, num_epochs=num_epochs, batch_size = batch_size, x_v=x_test,verbose=1) "
   ]
  },
  {
   "cell_type": "markdown",
   "metadata": {},
   "source": [
    "# Ploting Train History"
   ]
  },
  {
   "cell_type": "code",
   "execution_count": null,
   "metadata": {
    "scrolled": true
   },
   "outputs": [],
   "source": [
    "PlotHistory(model.history.history,listKeys=['val_loss','loss']) "
   ]
  },
  {
   "cell_type": "code",
   "execution_count": null,
   "metadata": {
    "scrolled": false
   },
   "outputs": [],
   "source": [
    "PlotHistory(model.history.history,listKeys=['val_acc_pred','acc_pred'])"
   ]
  },
  {
   "cell_type": "code",
   "execution_count": null,
   "metadata": {},
   "outputs": [],
   "source": [
    "PlotHistory(model.history.history,listKeys=['lr'])"
   ]
  },
  {
   "cell_type": "markdown",
   "metadata": {},
   "source": [
    "# Evaluate Model with Test dataset "
   ]
  },
  {
   "cell_type": "code",
   "execution_count": null,
   "metadata": {},
   "outputs": [],
   "source": [
    "if load_tfrecords:\n",
    "    x_test = gen_test.get_numpy_batch()\n",
    "\n",
    "x_rec = model.model.predict(x_test)\n",
    "PlotDataAE(np.argmax(x_test[:,:,:,:],axis=-1),np.argmax(x_rec[:,:,:,:],axis=-1),digit_size=(40,200),num=3,figsize=(20,10))"
   ]
  },
  {
   "cell_type": "markdown",
   "metadata": {},
   "source": [
    "# Generate random sampling"
   ]
  },
  {
   "cell_type": "code",
   "execution_count": null,
   "metadata": {},
   "outputs": [],
   "source": [
    "x_gen=model.generate(binary=True)\n",
    "PlotDataAE([],x_gen[:,:,:],Only_Result=False,digit_size=(40,200),num=3,figsize=(20,10))"
   ]
  }
 ],
 "metadata": {
  "kernelspec": {
   "display_name": "Python 3",
   "language": "python",
   "name": "python3"
  },
  "language_info": {
   "codemirror_mode": {
    "name": "ipython",
    "version": 3
   },
   "file_extension": ".py",
   "mimetype": "text/x-python",
   "name": "python",
   "nbconvert_exporter": "python",
   "pygments_lexer": "ipython3",
   "version": "3.5.2"
  }
 },
 "nbformat": 4,
 "nbformat_minor": 2
}
